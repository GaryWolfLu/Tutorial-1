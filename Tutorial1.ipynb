{
 "cells": [
  {
   "cell_type": "markdown",
   "metadata": {},
   "source": [
    "# Autoregressive Tutorial\n",
    "Hello. In this tutorial, we are going to learn how to use the autoregressive class for time-series models.  What this class does is that it makes predictions using a linear combination of past data. \n",
    "\n",
    "To describe it more deeply, a model we are used to using for predicting values is the linear regression model: y = a*x + b. How about instead, we predict values based on previous values? For example, how about we predict the value at the current time stamp based on the observed values at the previous two time stamps: X(t) = a*X(t-1) + b*X(t-2) + c? With the autoregressive class, we can create a best-fitting model of this type.\n",
    "\n",
    "Before we begin, you are going to need to save this Notebook and then place the file into a folder. Then, you are going to need to download the dataset from https://www.kaggle.com/muthuj7/weather-dataset and save it to the same folder. \n",
    "\n",
    "Now, let's import the classes we need for this project:"
   ]
  },
  {
   "cell_type": "code",
   "execution_count": null,
   "metadata": {},
   "outputs": [],
   "source": [
    "import matplotlib.pyplot as plt\n",
    "import pandas as pd\n",
    "import numpy as np\n",
    "import sqlite3"
   ]
  },
  {
   "cell_type": "markdown",
   "metadata": {},
   "source": [
    "Now, we want to import our weather dataset and convert it into a dataframe:"
   ]
  },
  {
   "cell_type": "code",
   "execution_count": null,
   "metadata": {},
   "outputs": [],
   "source": [
    "data = pd.read_csv(\"weatherHistory.csv\", usecols = ['Formatted Date', 'Temperature (C)']) "
   ]
  },
  {
   "cell_type": "markdown",
   "metadata": {},
   "source": [
    "I used the usecols command, because the date and temperature is all we need for now. Let's create a visual representation of our data: "
   ]
  },
  {
   "cell_type": "code",
   "execution_count": null,
   "metadata": {},
   "outputs": [],
   "source": [
    "plt.scatter(data['Formatted Date'], data['Temperature (C)'])\n",
    "plt.title('Temperature History')\n",
    "plt.xlabel('Formatted Date')\n",
    "plt.ylabel('Temperature (C)')\n",
    "plt.show()"
   ]
  },
  {
   "cell_type": "code",
   "execution_count": null,
   "metadata": {},
   "outputs": [],
   "source": []
  }
 ],
 "metadata": {
  "kernelspec": {
   "display_name": "Python 3",
   "language": "python",
   "name": "python3"
  },
  "language_info": {
   "codemirror_mode": {
    "name": "ipython",
    "version": 3
   },
   "file_extension": ".py",
   "mimetype": "text/x-python",
   "name": "python",
   "nbconvert_exporter": "python",
   "pygments_lexer": "ipython3",
   "version": "3.8.5"
  }
 },
 "nbformat": 4,
 "nbformat_minor": 4
}
